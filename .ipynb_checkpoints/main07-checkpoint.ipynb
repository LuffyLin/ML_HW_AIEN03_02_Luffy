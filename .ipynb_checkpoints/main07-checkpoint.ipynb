{
 "cells": [
  {
   "cell_type": "code",
   "execution_count": 1,
   "metadata": {},
   "outputs": [],
   "source": [
    "import pandas as pd\n",
    "import os\n",
    "import urllib.request\n"
   ]
  },
  {
   "cell_type": "code",
   "execution_count": 2,
   "metadata": {},
   "outputs": [],
   "source": [
    "if 'df_realestate.csv' not in os.listdir('data'):\n",
    "    url = 'https://s3.amazonaws.com/datasets-jeremy/df_realestate.csv'  \n",
    "    urllib.request.urlretrieve(url, os.path.join('data', 'df_realestate.csv')) \n",
    "    \n",
    "if 'df_realestate_processed.csv' not in os.listdir('data'):\n",
    "    url = 'https://s3.amazonaws.com/datasets-jeremy/df_realestate_processed.csv'  \n",
    "    urllib.request.urlretrieve(url, os.path.join('data', 'df_realestate_processed.csv'))  "
   ]
  },
  {
   "cell_type": "code",
   "execution_count": 4,
   "metadata": {},
   "outputs": [],
   "source": [
    "# before preprocessing\n",
    "file = os.path.join('data', 'df_realestate.csv')\n",
    "df_realestate = pd.read_csv(file, encoding='big5')\n",
    "df_realestate\n",
    "\n",
    "# processed\n",
    "path = \"data//df_realestate_processed.csv\"\n",
    "df_realestate_processed = pd.read_csv(path)\n",
    "X = df_realestate_processed.drop([\"price_per_meter\", \"total_price\"], axis=1)\n",
    "Y = df_realestate_processed['total_price']\n"
   ]
  },
  {
   "cell_type": "code",
   "execution_count": 1,
   "metadata": {},
   "outputs": [],
   "source": [
    "# Start Your Code Here"
   ]
  }
 ],
 "metadata": {
  "kernelspec": {
   "display_name": "Python 3",
   "language": "python",
   "name": "python3"
  },
  "language_info": {
   "codemirror_mode": {
    "name": "ipython",
    "version": 3
   },
   "file_extension": ".py",
   "mimetype": "text/x-python",
   "name": "python",
   "nbconvert_exporter": "python",
   "pygments_lexer": "ipython3",
   "version": "3.6.7"
  }
 },
 "nbformat": 4,
 "nbformat_minor": 2
}
